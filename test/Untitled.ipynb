{
 "cells": [
  {
   "cell_type": "code",
   "execution_count": 1,
   "id": "9fa9adc0",
   "metadata": {},
   "outputs": [],
   "source": [
    "import cv2\n",
    "# from google.colab.patches import cv2_imshow\n",
    "import numpy as np\n",
    "from keras.preprocessing.image import ImageDataGenerator,array_to_img, img_to_array, load_img\n",
    "import os\n",
    "from tqdm import tqdm\n",
    "from sklearn.model_selection import train_test_split\n",
    "from tensorflow  import keras\n",
    "import matplotlib.pyplot as plt\n",
    "import pandas as pd"
   ]
  },
  {
   "cell_type": "code",
   "execution_count": 15,
   "id": "3fd845c0",
   "metadata": {
    "scrolled": true
   },
   "outputs": [
    {
     "name": "stdout",
     "output_type": "stream",
     "text": [
      "./test\\0.jpg\n",
      "./test\\1.jpg\n",
      "./test\\10.jpg\n",
      "./test\\11.jpg\n",
      "./test\\12.jpg\n",
      "./test\\13.jpg\n",
      "./test\\14.jpg\n",
      "./test\\15.jpg\n",
      "./test\\16.jpg\n",
      "./test\\17.jpg\n",
      "./test\\18.jpg\n",
      "./test\\19.jpg\n",
      "./test\\2.jpg\n",
      "./test\\20.jpg\n",
      "./test\\21.jpg\n",
      "./test\\22.jpg\n",
      "./test\\23.jpg\n",
      "./test\\24.jpg\n",
      "./test\\25.jpg\n",
      "./test\\26.jpg\n",
      "./test\\27.jpg\n",
      "./test\\28.jpg\n",
      "./test\\29.jpg\n",
      "./test\\3.jpg\n",
      "./test\\30.jpg\n",
      "./test\\31.jpg\n",
      "./test\\32.jpg\n",
      "./test\\33.jpg\n",
      "./test\\34.jpg\n",
      "./test\\35.jpg\n",
      "./test\\36.jpg\n",
      "./test\\37.jpg\n",
      "./test\\38.jpg\n",
      "./test\\39.jpg\n",
      "./test\\4.jpg\n",
      "./test\\40.jpg\n",
      "./test\\41.jpg\n",
      "./test\\42.jpg\n",
      "./test\\43.jpg\n",
      "./test\\44.jpg\n",
      "./test\\45.jpg\n",
      "./test\\46.jpg\n",
      "./test\\47.jpg\n",
      "./test\\48.jpg\n",
      "./test\\49.jpg\n",
      "./test\\5.jpg\n",
      "./test\\50.jpg\n",
      "./test\\51.jpg\n",
      "./test\\52.jpg\n",
      "./test\\53.jpg\n",
      "./test\\54.jpg\n",
      "./test\\55.jpg\n",
      "./test\\56.jpg\n",
      "./test\\57.jpg\n",
      "./test\\58.jpg\n",
      "./test\\59.jpg\n",
      "./test\\6.jpg\n",
      "./test\\60.jpg\n",
      "./test\\61.jpg\n",
      "./test\\62.jpg\n",
      "./test\\63.jpg\n",
      "./test\\64.jpg\n",
      "./test\\65.jpg\n",
      "./test\\66.jpg\n",
      "./test\\67.jpg\n",
      "./test\\68.jpg\n",
      "./test\\69.jpg\n",
      "./test\\7.jpg\n",
      "./test\\70.jpg\n",
      "./test\\71.jpg\n",
      "./test\\72.jpg\n",
      "./test\\73.jpg\n",
      "./test\\74.jpg\n",
      "./test\\75.jpg\n",
      "./test\\76.jpg\n",
      "./test\\77.jpg\n",
      "./test\\78.jpg\n",
      "./test\\79.jpg\n",
      "./test\\8.jpg\n",
      "./test\\80.jpg\n",
      "./test\\81.jpg\n",
      "./test\\82.jpg\n",
      "./test\\83.jpg\n",
      "./test\\84.jpg\n",
      "./test\\85.jpg\n",
      "./test\\86.jpg\n",
      "./test\\87.jpg\n",
      "./test\\88.jpg\n",
      "./test\\89.jpg\n",
      "./test\\9.jpg\n",
      "./test\\90.jpg\n",
      "./test\\91.jpg\n",
      "./test\\92.jpg\n",
      "./test\\93.jpg\n",
      "./test\\94.jpg\n",
      "./test\\95.jpg\n",
      "./test\\96.jpg\n",
      "./test\\97.jpg\n",
      "./test\\98.jpg\n",
      "./test\\99.jpg\n"
     ]
    }
   ],
   "source": [
    "directory_path = \"./test\"\n",
    "kk=0\n",
    "for test in os.listdir(directory_path):\n",
    "    file_path = os.path.join(directory_path,test)\n",
    "    print(file_path)\n",
    "    src = cv2.imread(file_path)\n",
    "    cv2.imwrite(f'./query{kk+1:03}.png',src)\n",
    "    kk+=1\n"
   ]
  },
  {
   "cell_type": "code",
   "execution_count": 5,
   "id": "ad2963c4",
   "metadata": {},
   "outputs": [
    {
     "name": "stdout",
     "output_type": "stream",
     "text": [
      "query001.png\n",
      "query002.png\n",
      "query003.png\n",
      "query004.png\n",
      "query005.png\n",
      "query006.png\n",
      "query007.png\n",
      "query008.png\n",
      "query009.png\n",
      "query010.png\n"
     ]
    }
   ],
   "source": [
    "for i in range(10):\n",
    "    print(f'query{i+1:03}.png')"
   ]
  }
 ],
 "metadata": {
  "kernelspec": {
   "display_name": "Python 3 (ipykernel)",
   "language": "python",
   "name": "python3"
  },
  "language_info": {
   "codemirror_mode": {
    "name": "ipython",
    "version": 3
   },
   "file_extension": ".py",
   "mimetype": "text/x-python",
   "name": "python",
   "nbconvert_exporter": "python",
   "pygments_lexer": "ipython3",
   "version": "3.11.3"
  }
 },
 "nbformat": 4,
 "nbformat_minor": 5
}
